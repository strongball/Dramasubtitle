{
 "cells": [
  {
   "cell_type": "code",
   "execution_count": 1,
   "metadata": {},
   "outputs": [],
   "source": [
    "import pandas as pd\n",
    "import matplotlib.pyplot as plt"
   ]
  },
  {
   "cell_type": "code",
   "execution_count": 5,
   "metadata": {},
   "outputs": [],
   "source": [
    "import torch\n",
    "import torch.nn as nn\n",
    "\n",
    "from utils.tokenMaker import Lang\n",
    "from utils.tool import padding, flatMutileLength, fixString\n",
    "from model.BigModel import ImgToSeq\n",
    "from convertSrtEN import cleanString\n",
    "useCuda = True\n",
    "device = torch.device(\"cuda\" if useCuda else \"cpu\")"
   ]
  },
  {
   "cell_type": "code",
   "execution_count": 2,
   "metadata": {},
   "outputs": [
    {
     "data": {
      "text/html": [
       "<div>\n",
       "<style>\n",
       "    .dataframe thead tr:only-child th {\n",
       "        text-align: right;\n",
       "    }\n",
       "\n",
       "    .dataframe thead th {\n",
       "        text-align: left;\n",
       "    }\n",
       "\n",
       "    .dataframe tbody tr th {\n",
       "        vertical-align: top;\n",
       "    }\n",
       "</style>\n",
       "<table border=\"1\" class=\"dataframe\">\n",
       "  <thead>\n",
       "    <tr style=\"text-align: right;\">\n",
       "      <th></th>\n",
       "      <th>id</th>\n",
       "      <th>qid1</th>\n",
       "      <th>qid2</th>\n",
       "      <th>question1</th>\n",
       "      <th>question2</th>\n",
       "      <th>is_duplicate</th>\n",
       "    </tr>\n",
       "  </thead>\n",
       "  <tbody>\n",
       "    <tr>\n",
       "      <th>0</th>\n",
       "      <td>0</td>\n",
       "      <td>1</td>\n",
       "      <td>2</td>\n",
       "      <td>What is the step by step guide to invest in sh...</td>\n",
       "      <td>What is the step by step guide to invest in sh...</td>\n",
       "      <td>0</td>\n",
       "    </tr>\n",
       "    <tr>\n",
       "      <th>1</th>\n",
       "      <td>1</td>\n",
       "      <td>3</td>\n",
       "      <td>4</td>\n",
       "      <td>What is the story of Kohinoor (Koh-i-Noor) Dia...</td>\n",
       "      <td>What would happen if the Indian government sto...</td>\n",
       "      <td>0</td>\n",
       "    </tr>\n",
       "    <tr>\n",
       "      <th>2</th>\n",
       "      <td>2</td>\n",
       "      <td>5</td>\n",
       "      <td>6</td>\n",
       "      <td>How can I increase the speed of my internet co...</td>\n",
       "      <td>How can Internet speed be increased by hacking...</td>\n",
       "      <td>0</td>\n",
       "    </tr>\n",
       "    <tr>\n",
       "      <th>3</th>\n",
       "      <td>3</td>\n",
       "      <td>7</td>\n",
       "      <td>8</td>\n",
       "      <td>Why am I mentally very lonely? How can I solve...</td>\n",
       "      <td>Find the remainder when [math]23^{24}[/math] i...</td>\n",
       "      <td>0</td>\n",
       "    </tr>\n",
       "    <tr>\n",
       "      <th>4</th>\n",
       "      <td>4</td>\n",
       "      <td>9</td>\n",
       "      <td>10</td>\n",
       "      <td>Which one dissolve in water quikly sugar, salt...</td>\n",
       "      <td>Which fish would survive in salt water?</td>\n",
       "      <td>0</td>\n",
       "    </tr>\n",
       "  </tbody>\n",
       "</table>\n",
       "</div>"
      ],
      "text/plain": [
       "   id  qid1  qid2                                          question1  \\\n",
       "0   0     1     2  What is the step by step guide to invest in sh...   \n",
       "1   1     3     4  What is the story of Kohinoor (Koh-i-Noor) Dia...   \n",
       "2   2     5     6  How can I increase the speed of my internet co...   \n",
       "3   3     7     8  Why am I mentally very lonely? How can I solve...   \n",
       "4   4     9    10  Which one dissolve in water quikly sugar, salt...   \n",
       "\n",
       "                                           question2  is_duplicate  \n",
       "0  What is the step by step guide to invest in sh...             0  \n",
       "1  What would happen if the Indian government sto...             0  \n",
       "2  How can Internet speed be increased by hacking...             0  \n",
       "3  Find the remainder when [math]23^{24}[/math] i...             0  \n",
       "4            Which fish would survive in salt water?             0  "
      ]
     },
     "execution_count": 2,
     "metadata": {},
     "output_type": "execute_result"
    }
   ],
   "source": [
    "datas = pd.read_csv(\"others/train.csv\")\n",
    "datas[:5]"
   ]
  },
  {
   "cell_type": "code",
   "execution_count": 7,
   "metadata": {},
   "outputs": [
    {
     "name": "stdout",
     "output_type": "stream",
     "text": [
      "Load lang model: ImgSub2Sub/models/bken_fix_150. Word size: 15479\n"
     ]
    }
   ],
   "source": [
    "import pickle\n",
    "import os\n",
    "ModalDir = \"ImgSub2Sub/models/bken_fix_150\"\n",
    "with open(os.path.join(ModalDir, \"Lang.pkl\"), 'rb') as f:\n",
    "    lang = pickle.load(f)\n",
    "    print(\"Load lang model: {}. Word size: {}\".format(ModalDir, len(lang)))\n",
    "modal = torch.load(os.path.join(ModalDir, \"SubImgModel.30.pth\")).eval().to(device)"
   ]
  },
  {
   "cell_type": "code",
   "execution_count": 8,
   "metadata": {},
   "outputs": [],
   "source": [
    "minidata = datas[:1000]\n",
    "minidata = minidata.assign(cos = lambda x: 0.5)\n",
    "minidata = minidata.assign(eucl = lambda x: 0.5)"
   ]
  },
  {
   "cell_type": "code",
   "execution_count": 19,
   "metadata": {},
   "outputs": [],
   "source": [
    "def getEncoder(modal, sub):\n",
    "    subVar =  torch.LongTensor(lang.sentenceToVector(sub, sos=False, eos=False)).to(device).unsqueeze(0)\n",
    "    return modal.subRnn(subVar)[0][:,-1,:]\n",
    "def getWordEncoder(modal, sub):\n",
    "    subVar =  torch.LongTensor(lang.sentenceToVector(sub, sos=False, eos=False)).to(device).unsqueeze(0)\n",
    "    return modal.subRnn.embedding(subVar).mean(dim=1)\n",
    "def getCos(row):\n",
    "    eq1 = getEncoder(modal, cleanString(row[\"question1\"]))\n",
    "    eq2 = getEncoder(modal, cleanString(row[\"question2\"]))\n",
    "    data = cos(eq1, eq2).mean() #cos\n",
    "    return data.cpu().detach().item()\n",
    "def getEuclidean(row):\n",
    "    eq1 = getEncoder(modal, cleanString(row[\"question1\"]))\n",
    "    eq2 = getEncoder(modal, cleanString(row[\"question2\"]))\n",
    "    data = ((eq1-eq2)**2).sum()**0.5 #o\n",
    "    return data.cpu().detach().item()\n",
    "\n",
    "cos = nn.CosineSimilarity(dim=1)"
   ]
  },
  {
   "cell_type": "code",
   "execution_count": 21,
   "metadata": {},
   "outputs": [],
   "source": [
    "for index, row in minidata.iterrows():\n",
    "    minidata.loc[index, \"cos\"] = getCos(row)\n",
    "    minidata.loc[index, \"eucl\"] = getEuclidean(row)"
   ]
  },
  {
   "cell_type": "code",
   "execution_count": 22,
   "metadata": {},
   "outputs": [
    {
     "name": "stdout",
     "output_type": "stream",
     "text": [
      "             precision    recall  f1-score   support\n",
      "\n",
      "          0       0.73      0.73      0.73       620\n",
      "          1       0.56      0.56      0.56       380\n",
      "\n",
      "avg / total       0.66      0.66      0.66      1000\n",
      "\n"
     ]
    }
   ],
   "source": [
    "from sklearn.metrics import classification_report\n",
    "from sklearn import tree\n",
    "clf = tree.DecisionTreeClassifier(max_depth=2)\n",
    "clf = clf.fit(minidata[[\"cos\"]], minidata[\"is_duplicate\"])\n",
    "minidata[\"cmp\"] = clf.predict(minidata[[\"cos\"]])\n",
    "print(classification_report(y_true=minidata[\"is_duplicate\"], y_pred=minidata[\"cmp\"]))\n",
    "#cos"
   ]
  },
  {
   "cell_type": "code",
   "execution_count": 23,
   "metadata": {},
   "outputs": [
    {
     "name": "stdout",
     "output_type": "stream",
     "text": [
      "             precision    recall  f1-score   support\n",
      "\n",
      "          0       0.71      0.79      0.75       620\n",
      "          1       0.58      0.48      0.52       380\n",
      "\n",
      "avg / total       0.66      0.67      0.66      1000\n",
      "\n"
     ]
    }
   ],
   "source": [
    "from sklearn.metrics import classification_report\n",
    "from sklearn import tree\n",
    "clf = tree.DecisionTreeClassifier(max_depth=2)\n",
    "clf = clf.fit(minidata[[\"eucl\"]], minidata[\"is_duplicate\"])\n",
    "minidata[\"cmp\"] = clf.predict(minidata[[\"eucl\"]])\n",
    "print(classification_report(y_true=minidata[\"is_duplicate\"], y_pred=minidata[\"cmp\"]))\n",
    "#幾何"
   ]
  },
  {
   "cell_type": "code",
   "execution_count": 24,
   "metadata": {},
   "outputs": [
    {
     "data": {
      "image/png": "[encoded data removed]",
      "text/plain": [
       "<Figure size 432x288 with 2 Axes>"
      ]
     },
     "metadata": {},
     "output_type": "display_data"
    }
   ],
   "source": [
    "minidata[[\"cmp\", \"is_duplicate\"]].hist()\n",
    "plt.show()"
   ]
  },
  {
   "cell_type": "code",
   "execution_count": 25,
   "metadata": {},
   "outputs": [
    {
     "data": {
      "image/png": "[encoded data removed]",
      "text/plain": [
       "<Figure size 432x288 with 1 Axes>"
      ]
     },
     "metadata": {},
     "output_type": "display_data"
    },
    {
     "data": {
      "text/plain": [
       "count    1000.000000\n",
       "mean       18.841783\n",
       "std         6.149757\n",
       "min         0.000000\n",
       "25%        15.263359\n",
       "50%        20.010601\n",
       "75%        23.410573\n",
       "max        29.571533\n",
       "Name: eucl, dtype: float64"
      ]
     },
     "execution_count": 25,
     "metadata": {},
     "output_type": "execute_result"
    }
   ],
   "source": [
    "minidata[\"eucl\"].hist(bins=10)\n",
    "plt.show()\n",
    "minidata[\"eucl\"].describe()"
   ]
  },
  {
   "cell_type": "code",
   "execution_count": 26,
   "metadata": {},
   "outputs": [
    {
     "data": {
      "image/png": "[encoded data removed]",
      "text/plain": [
       "<Figure size 432x288 with 1 Axes>"
      ]
     },
     "metadata": {},
     "output_type": "display_data"
    },
    {
     "data": {
      "text/plain": [
       "count    1000.000000\n",
       "mean        0.369838\n",
       "std         0.306327\n",
       "min        -0.195279\n",
       "25%         0.107970\n",
       "50%         0.321715\n",
       "75%         0.607917\n",
       "max         1.000000\n",
       "Name: cos, dtype: float64"
      ]
     },
     "execution_count": 26,
     "metadata": {},
     "output_type": "execute_result"
    }
   ],
   "source": [
    "minidata[\"cos\"].hist(bins=10)\n",
    "plt.show()\n",
    "minidata[\"cos\"].describe()"
   ]
  },
  {
   "cell_type": "code",
   "execution_count": 1,
   "metadata": {},
   "outputs": [],
   "source": [
    "import jieba"
   ]
  },
  {
   "cell_type": "code",
   "execution_count": 2,
   "metadata": {},
   "outputs": [],
   "source": [
    "sc = \"這是一首間單的小情歌\"\n",
    "sce = \"你好Andy 幫我放東西\""
   ]
  },
  {
   "cell_type": "code",
   "execution_count": 5,
   "metadata": {},
   "outputs": [
    {
     "data": {
      "text/plain": [
       "['你好', 'Andy', ' ', '幫', '我', '放東西']"
      ]
     },
     "execution_count": 5,
     "metadata": {},
     "output_type": "execute_result"
    }
   ],
   "source": [
    "list(jieba.cut(sce))"
   ]
  },
  {
   "cell_type": "code",
   "execution_count": null,
   "metadata": {},
   "outputs": [],
   "source": [
    "class LangV2:\n",
    "    def __init__(self, name, split=\"jieba\"):\n",
    "        self.name = name\n",
    "        self.split = split\n",
    "        self.word2index = {}\n",
    "        self.word2count = {}\n",
    "        self.index2word = {}\n",
    "        self.n_words = 0\n",
    "        \n",
    "        self.addWord(\"PAD\")\n",
    "        self.addWord(\"SOS\")\n",
    "        self.addWord(\"EOS\")\n",
    "        self.addWord(\"UNK\")\n",
    "        \n",
    "    def  __getitem__(self, key):\n",
    "        if isinstance(key, str):\n",
    "            if key in self.word2index:\n",
    "                return self.word2index[key]\n",
    "            else:\n",
    "                return self.word2index[\"UNK\"]\n",
    "        elif isinstance(key, int):\n",
    "            if key < self.n_words:\n",
    "                return self.index2word[key]\n",
    "        return None\n",
    "    def __len__(self):\n",
    "        return self.n_words\n",
    "    def addWord(self, word):\n",
    "        if word not in self.word2index:\n",
    "            self.word2index[word] = self.n_words\n",
    "            self.word2count[word] = 1\n",
    "            self.index2word[self.n_words] = word\n",
    "            self.n_words += 1\n",
    "        else:\n",
    "            self.word2count[word] += 1\n",
    "    def __splitSentence(self, s):\n",
    "        if self.split == \"\":\n",
    "            return s\n",
    "        if self.split == \"jieba\":\n",
    "            jieba.cut(s)\n",
    "        else:\n",
    "            return s.split(self.split)\n",
    "    def addSentance(self, sent):\n",
    "        for w in self.__splitSentence(sent):\n",
    "            self.addWord(w)\n",
    "    def sentenceToVector(self, s, sos = False, eos = False):\n",
    "        numS = []\n",
    "        if sos: \n",
    "            numS.append(self.word2index[\"SOS\"])\n",
    "        for w in self.__splitSentence(s):\n",
    "            if w in self.word2index:\n",
    "                numS.append(self.word2index[w])\n",
    "            else:\n",
    "                numS.append(self.word2index[\"UNK\"])\n",
    "        if eos:\n",
    "            numS.append(self.word2index[\"EOS\"])\n",
    "        return numS\n",
    "    def vectorToSentence(self, v):\n",
    "        if self.word2index[\"SOS\"] in v:\n",
    "            v.remove(self.word2index[\"SOS\"])\n",
    "        if self.word2index[\"EOS\"] in v:\n",
    "            v.remove(self.word2index[\"EOS\"])\n",
    "\n",
    "        s = self.split.join(self.index2word[i] for i in v)\n",
    "        return s"
   ]
  }
 ],
 "metadata": {
  "kernelspec": {
   "display_name": "Python 3",
   "language": "python",
   "name": "python3"
  },
  "language_info": {
   "codemirror_mode": {
    "name": "ipython",
    "version": 3
   },
   "file_extension": ".py",
   "mimetype": "text/x-python",
   "name": "python",
   "nbconvert_exporter": "python",
   "pygments_lexer": "ipython3",
   "version": "3.5.5"
  }
 },
 "nbformat": 4,
 "nbformat_minor": 2
}
