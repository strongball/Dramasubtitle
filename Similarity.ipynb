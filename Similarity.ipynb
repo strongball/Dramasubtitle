{
 "cells": [
  {
   "cell_type": "code",
   "execution_count": 1,
   "metadata": {},
   "outputs": [],
   "source": [
    "import torch \n",
    "import torch.utils.data\n",
    "import torch.nn as nn\n",
    "from torch.autograd import Variable\n",
    "\n",
    "from dataset.readVideo import DramaDataset\n",
    "from utils.tokenMaker import Lang\n",
    "from utils.tool import padding\n",
    "import pickle\n",
    "import os\n",
    "import matplotlib.pyplot as plt\n",
    "from Similarity.model import GesdSimilarity\n",
    "useCuda = True\n",
    "device = torch.device(\"cuda\" if useCuda else \"cpu\")"
   ]
  },
  {
   "cell_type": "code",
   "execution_count": 2,
   "metadata": {},
   "outputs": [
    {
     "name": "stdout",
     "output_type": "stream",
     "text": [
      "Total Drama: 113\n"
     ]
    }
   ],
   "source": [
    "DataDir=\"/home/ball/Videos/BrokeEN\"\n",
    "datasets = DramaDataset(basedir=DataDir,\n",
    "                        maxFrame=0,\n",
    "                        )\n",
    "import random\n",
    "def getSample(size):\n",
    "    imgs = []\n",
    "    pres = []\n",
    "    nexs = []\n",
    "    for i in range(size):\n",
    "        pre, nex, img = random.choice(datasets)\n",
    "        imgs.append(img)\n",
    "        pres.append(pre)\n",
    "        nexs.append(nex)\n",
    "    return pres, nexs, imgs\n",
    "\n",
    "def makeNegSample(pres, nexs, negSize):\n",
    "    mpres = []\n",
    "    mnexts = []\n",
    "    scores = []\n",
    "    for pre, nex in zip(pres, nexs):\n",
    "        while True:\n",
    "            negs = random.sample(nexs, negSize)\n",
    "            if not nex in negs:\n",
    "                break\n",
    "        mpres +=[pre] * (negSize + 1)\n",
    "        mnexts += [nex] + negs\n",
    "        scores += [1] + [0] * negSize\n",
    "    return mpres, mnexts, scores\n",
    "vectorTransforms = [lambda x: torch.LongTensor(x).to(device)]\n",
    "def sentenceToVector(sentences, lang, sos=False, eos=False):\n",
    "    vectors = []\n",
    "    for s in sentences:\n",
    "        vectors.append(lang.sentenceToVector(s, sos=sos, eos=eos))\n",
    "    vectors = padding(vectors, lang[\"PAD\"], vectorTransforms)\n",
    "    return vectors"
   ]
  },
  {
   "cell_type": "code",
   "execution_count": 3,
   "metadata": {},
   "outputs": [
    {
     "name": "stdout",
     "output_type": "stream",
     "text": [
      "Load lang model: Similarity/models/bken_fix. Word size: 15479\n"
     ]
    }
   ],
   "source": [
    "ModelDir = \"Similarity/models/bken_fix\"\n",
    "with open(os.path.join(ModelDir, \"Lang.pkl\"), 'rb') as f:\n",
    "    lang = pickle.load(f)\n",
    "    print(\"Load lang model: {}. Word size: {}\".format(ModelDir, len(lang)))\n",
    "model = torch.load(os.path.join(ModelDir, \"SimilarityModel.40.pth\")).to(device).eval()"
   ]
  },
  {
   "cell_type": "code",
   "execution_count": 4,
   "metadata": {},
   "outputs": [],
   "source": [
    "pres, nexs, imgs = getSample(32)"
   ]
  },
  {
   "cell_type": "code",
   "execution_count": 23,
   "metadata": {},
   "outputs": [],
   "source": [
    "p,n,s = makeNegSample(pres, nexs, negSize=3)\n",
    "vpres = sentenceToVector(p, lang)\n",
    "vnexts = sentenceToVector(n, lang)\n",
    "scores = torch.Tensor(s).to(device)"
   ]
  },
  {
   "cell_type": "code",
   "execution_count": 24,
   "metadata": {},
   "outputs": [
    {
     "data": {
      "text/plain": [
       "tensor(0.9844, device='cuda:0')"
      ]
     },
     "execution_count": 24,
     "metadata": {},
     "output_type": "execute_result"
    }
   ],
   "source": [
    "outputs = model(vpres, vnexts)\n",
    "(outputs.round() == scores).float().mean()"
   ]
  },
  {
   "cell_type": "code",
   "execution_count": 25,
   "metadata": {},
   "outputs": [
    {
     "data": {
      "image/png": "[encoded data removed]",
      "text/plain": [
       "<Figure size 432x288 with 1 Axes>"
      ]
     },
     "metadata": {},
     "output_type": "display_data"
    }
   ],
   "source": [
    "plt.scatter(outputs.cpu().detach().numpy(), scores.cpu().detach().numpy())\n",
    "plt.show()"
   ]
  },
  {
   "cell_type": "code",
   "execution_count": 34,
   "metadata": {},
   "outputs": [
    {
     "data": {
      "text/plain": [
       "(tensor([-0., -0., -1., -1., -1.], device='cuda:0'),\n",
       " tensor([ 109,  104,    2,    1,    0], device='cuda:0'))"
      ]
     },
     "execution_count": 34,
     "metadata": {},
     "output_type": "execute_result"
    }
   ],
   "source": [
    "(-(outputs.round() == scores).float()).topk(5)"
   ]
  },
  {
   "cell_type": "code",
   "execution_count": 35,
   "metadata": {},
   "outputs": [
    {
     "data": {
      "text/plain": [
       "'I ll take you to my place'"
      ]
     },
     "execution_count": 35,
     "metadata": {},
     "output_type": "execute_result"
    }
   ],
   "source": [
    "p[109]"
   ]
  },
  {
   "cell_type": "code",
   "execution_count": 18,
   "metadata": {},
   "outputs": [],
   "source": [
    "import pandas as pd\n",
    "allresult = pd.read_json(\"others/result.json\")[[\"epoch\", \"pre\", \"next\", \"make\"]]"
   ]
  },
  {
   "cell_type": "code",
   "execution_count": 19,
   "metadata": {},
   "outputs": [],
   "source": [
    "epoch = 1\n",
    "fullResult = pd.DataFrame()\n",
    "while True:\n",
    "    result = allresult.loc[allresult['epoch'] == epoch].copy(True)\n",
    "    if len(result) == 0:\n",
    "        break\n",
    "    vpres = sentenceToVector(result[\"pre\"], lang)\n",
    "    vnexts = sentenceToVector(result[\"make\"], lang)\n",
    "    outputs = model(vpres, vnexts)\n",
    "    part = result\n",
    "    part[\"score\"] = outputs.detach()\n",
    "    fullResult = fullResult.append(part, ignore_index=True)\n",
    "    epoch += 1"
   ]
  },
  {
   "cell_type": "code",
   "execution_count": 20,
   "metadata": {},
   "outputs": [
    {
     "data": {
      "image/png": "[encoded data removed]",
      "text/plain": [
       "<Figure size 432x288 with 1 Axes>"
      ]
     },
     "metadata": {},
     "output_type": "display_data"
    }
   ],
   "source": [
    "fullResult.groupby(\"epoch\").mean().plot()\n",
    "plt.show()"
   ]
  },
  {
   "cell_type": "code",
   "execution_count": 21,
   "metadata": {},
   "outputs": [
    {
     "name": "stdout",
     "output_type": "stream",
     "text": [
      "count    64.000000\n",
      "mean      0.891663\n",
      "std       0.080187\n",
      "min       0.498750\n",
      "25%       0.868344\n",
      "50%       0.912489\n",
      "75%       0.940957\n",
      "max       0.987363\n",
      "Name: score, dtype: float64\n"
     ]
    },
    {
     "data": {
      "image/png": "[encoded data removed]",
      "text/plain": [
       "<Figure size 432x288 with 1 Axes>"
      ]
     },
     "metadata": {},
     "output_type": "display_data"
    }
   ],
   "source": [
    "partDatas = fullResult.loc[fullResult['epoch'] == 30]\n",
    "partDatas[\"score\"].hist().set_xlim(0,1)\n",
    "print(partDatas[\"score\"].describe())\n",
    "plt.show()"
   ]
  },
  {
   "cell_type": "code",
   "execution_count": 109,
   "metadata": {},
   "outputs": [
    {
     "data": {
      "text/html": [
       "<div>\n",
       "<style>\n",
       "    .dataframe thead tr:only-child th {\n",
       "        text-align: right;\n",
       "    }\n",
       "\n",
       "    .dataframe thead th {\n",
       "        text-align: left;\n",
       "    }\n",
       "\n",
       "    .dataframe tbody tr th {\n",
       "        vertical-align: top;\n",
       "    }\n",
       "</style>\n",
       "<table border=\"1\" class=\"dataframe\">\n",
       "  <thead>\n",
       "    <tr style=\"text-align: right;\">\n",
       "      <th></th>\n",
       "      <th>epoch</th>\n",
       "      <th>pre</th>\n",
       "      <th>next</th>\n",
       "      <th>make</th>\n",
       "      <th>score</th>\n",
       "    </tr>\n",
       "  </thead>\n",
       "  <tbody>\n",
       "    <tr>\n",
       "      <th>1858</th>\n",
       "      <td>30</td>\n",
       "      <td>I can t get a signal</td>\n",
       "      <td>What s your Wi Fi password</td>\n",
       "      <td>What s your Wi Fi password</td>\n",
       "      <td>0.742746</td>\n",
       "    </tr>\n",
       "    <tr>\n",
       "      <th>1869</th>\n",
       "      <td>30</td>\n",
       "      <td>Forget the tangerine</td>\n",
       "      <td>Earl s having a heart attack</td>\n",
       "      <td>Earl s having a heart attack</td>\n",
       "      <td>0.720413</td>\n",
       "    </tr>\n",
       "    <tr>\n",
       "      <th>1877</th>\n",
       "      <td>30</td>\n",
       "      <td>Then I realized when you have the right to bea...</td>\n",
       "      <td>Omelet Pick up</td>\n",
       "      <td>Omelet Pick up</td>\n",
       "      <td>0.779002</td>\n",
       "    </tr>\n",
       "    <tr>\n",
       "      <th>1878</th>\n",
       "      <td>30</td>\n",
       "      <td>The rest of my Cinnabon</td>\n",
       "      <td>Max that s our competition</td>\n",
       "      <td>Max that s our competition</td>\n",
       "      <td>0.697891</td>\n",
       "    </tr>\n",
       "    <tr>\n",
       "      <th>1900</th>\n",
       "      <td>30</td>\n",
       "      <td>Oh</td>\n",
       "      <td>Oh my God</td>\n",
       "      <td>Oh my God</td>\n",
       "      <td>0.498750</td>\n",
       "    </tr>\n",
       "    <tr>\n",
       "      <th>1909</th>\n",
       "      <td>30</td>\n",
       "      <td>She missed my birth cause she had a thing</td>\n",
       "      <td>Come on she can t be that bad</td>\n",
       "      <td>Come on she can t be that bad</td>\n",
       "      <td>0.791762</td>\n",
       "    </tr>\n",
       "  </tbody>\n",
       "</table>\n",
       "</div>"
      ],
      "text/plain": [
       "      epoch                                                pre  \\\n",
       "1858     30                               I can t get a signal   \n",
       "1869     30                               Forget the tangerine   \n",
       "1877     30  Then I realized when you have the right to bea...   \n",
       "1878     30                            The rest of my Cinnabon   \n",
       "1900     30                                                 Oh   \n",
       "1909     30          She missed my birth cause she had a thing   \n",
       "\n",
       "                               next                           make     score  \n",
       "1858     What s your Wi Fi password     What s your Wi Fi password  0.742746  \n",
       "1869   Earl s having a heart attack   Earl s having a heart attack  0.720413  \n",
       "1877                 Omelet Pick up                 Omelet Pick up  0.779002  \n",
       "1878     Max that s our competition     Max that s our competition  0.697891  \n",
       "1900                      Oh my God                      Oh my God  0.498750  \n",
       "1909  Come on she can t be that bad  Come on she can t be that bad  0.791762  "
      ]
     },
     "execution_count": 109,
     "metadata": {},
     "output_type": "execute_result"
    }
   ],
   "source": [
    "partDatas.loc[partDatas['score'] <= .8]"
   ]
  },
  {
   "cell_type": "code",
   "execution_count": 101,
   "metadata": {},
   "outputs": [
    {
     "data": {
      "text/html": [
       "<div>\n",
       "<style>\n",
       "    .dataframe thead tr:only-child th {\n",
       "        text-align: right;\n",
       "    }\n",
       "\n",
       "    .dataframe thead th {\n",
       "        text-align: left;\n",
       "    }\n",
       "\n",
       "    .dataframe tbody tr th {\n",
       "        vertical-align: top;\n",
       "    }\n",
       "</style>\n",
       "<table border=\"1\" class=\"dataframe\">\n",
       "  <thead>\n",
       "    <tr style=\"text-align: right;\">\n",
       "      <th></th>\n",
       "      <th>epoch</th>\n",
       "      <th>pre</th>\n",
       "      <th>next</th>\n",
       "      <th>make</th>\n",
       "      <th>score</th>\n",
       "    </tr>\n",
       "  </thead>\n",
       "  <tbody>\n",
       "    <tr>\n",
       "      <th>1901</th>\n",
       "      <td>30</td>\n",
       "      <td>No I got this</td>\n",
       "      <td>I got this</td>\n",
       "      <td>I got this</td>\n",
       "      <td>0.923086</td>\n",
       "    </tr>\n",
       "  </tbody>\n",
       "</table>\n",
       "</div>"
      ],
      "text/plain": [
       "      epoch            pre        next        make     score\n",
       "1901     30  No I got this  I got this  I got this  0.923086"
      ]
     },
     "execution_count": 101,
     "metadata": {},
     "output_type": "execute_result"
    }
   ],
   "source": [
    "qerror = partDatas.loc[[1901]]\n",
    "qerror"
   ]
  },
  {
   "cell_type": "code",
   "execution_count": 102,
   "metadata": {},
   "outputs": [],
   "source": [
    "vpres = sentenceToVector(qerror[\"pre\"], lang)\n",
    "vnexts = sentenceToVector(qerror[\"make\"], lang)\n",
    "s1Sentence, s1Lengths = vpres\n",
    "s2Sentence, s2Lengths = vnexts"
   ]
  },
  {
   "cell_type": "code",
   "execution_count": 103,
   "metadata": {},
   "outputs": [],
   "source": [
    "from utils.tool import getLastOutputs\n",
    "feature1, _ = model.preEncoder(s1Sentence)\n",
    "feature2, _ = model.nextEncoder(s2Sentence)\n",
    "\n",
    "feature1 = getLastOutputs(feature1, s1Lengths)\n",
    "feature2 = getLastOutputs(feature2, s2Lengths)"
   ]
  },
  {
   "cell_type": "code",
   "execution_count": 104,
   "metadata": {},
   "outputs": [
    {
     "data": {
      "text/plain": [
       "tensor([ 0.9231], device='cuda:0')"
      ]
     },
     "execution_count": 104,
     "metadata": {},
     "output_type": "execute_result"
    }
   ],
   "source": [
    "model.gesd(feature1, feature2)"
   ]
  },
  {
   "cell_type": "code",
   "execution_count": 107,
   "metadata": {},
   "outputs": [
    {
     "data": {
      "image/png": "[encoded data removed]",
      "text/plain": [
       "<Figure size 576x432 with 1 Axes>"
      ]
     },
     "metadata": {},
     "output_type": "display_data"
    }
   ],
   "source": [
    "import matplotlib.pyplot as plt\n",
    "plt.figure(figsize=(8,6))\n",
    "x = range(0, feature1[0].size(0))\n",
    "plt.bar(x, feature1[0].detach(), alpha=0.5)\n",
    "plt.bar(x, feature2[0].detach(), alpha=0.5)\n",
    "plt.show()"
   ]
  },
  {
   "cell_type": "code",
   "execution_count": null,
   "metadata": {},
   "outputs": [],
   "source": []
  }
 ],
 "metadata": {
  "kernelspec": {
   "display_name": "Python 3",
   "language": "python",
   "name": "python3"
  },
  "language_info": {
   "codemirror_mode": {
    "name": "ipython",
    "version": 3
   },
   "file_extension": ".py",
   "mimetype": "text/x-python",
   "name": "python",
   "nbconvert_exporter": "python",
   "pygments_lexer": "ipython3",
   "version": "3.5.5"
  }
 },
 "nbformat": 4,
 "nbformat_minor": 2
}
