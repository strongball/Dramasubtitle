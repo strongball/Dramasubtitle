{
 "cells": [
  {
   "cell_type": "code",
   "execution_count": 48,
   "metadata": {},
   "outputs": [
    {
     "ename": "AttributeError",
     "evalue": "type object 'Variable' has no attribute 'cuda'",
     "output_type": "error",
     "traceback": [
      "\u001b[0;31m---------------------------------------------------------------------------\u001b[0m",
      "\u001b[0;31mAttributeError\u001b[0m                            Traceback (most recent call last)",
      "\u001b[0;32m<ipython-input-48-f28e4bc64543>\u001b[0m in \u001b[0;36m<module>\u001b[0;34m()\u001b[0m\n\u001b[1;32m     10\u001b[0m \u001b[0;34m\u001b[0m\u001b[0m\n\u001b[1;32m     11\u001b[0m \u001b[0museCuda\u001b[0m \u001b[0;34m=\u001b[0m \u001b[0;32mTrue\u001b[0m\u001b[0;34m\u001b[0m\u001b[0m\n\u001b[0;32m---> 12\u001b[0;31m \u001b[0mVariable\u001b[0m \u001b[0;34m=\u001b[0m \u001b[0mVariable\u001b[0m\u001b[0;34m.\u001b[0m\u001b[0mcuda\u001b[0m \u001b[0;32mif\u001b[0m \u001b[0museCuda\u001b[0m \u001b[0;32melse\u001b[0m \u001b[0mVariable\u001b[0m\u001b[0;34m\u001b[0m\u001b[0m\n\u001b[0m",
      "\u001b[0;31mAttributeError\u001b[0m: type object 'Variable' has no attribute 'cuda'"
     ]
    }
   ],
   "source": [
    "import torch \n",
    "import torch.utils.data\n",
    "import torch.nn as nn\n",
    "from torch.autograd import Variable\n",
    "\n",
    "from dataset.readVideo import DramaDataset\n",
    "from NGram.tool import NGram, trigrams\n",
    "from utils.tokenMaker import Lang\n",
    "import pickle\n",
    "\n",
    "useCuda = True\n",
    "Variable = Variable.cuda if useCuda else Variable"
   ]
  },
  {
   "cell_type": "code",
   "execution_count": 46,
   "metadata": {},
   "outputs": [
    {
     "data": {
      "text/plain": [
       "<method 'cuda' of 'torch._C._TensorBase' objects>"
      ]
     },
     "execution_count": 46,
     "metadata": {},
     "output_type": "execute_result"
    }
   ],
   "source": [
    "torch.Tensor.cuda"
   ]
  },
  {
   "cell_type": "code",
   "execution_count": 3,
   "metadata": {},
   "outputs": [
    {
     "name": "stdout",
     "output_type": "stream",
     "text": [
      "Total Drama: 113\n"
     ]
    }
   ],
   "source": [
    "DataDir=\"/home/ball/Videos/BrokeEN\"\n",
    "datasets = DramaDataset(basedir=DataDir,\n",
    "                        maxFrame=0,\n",
    "                        )\n",
    "import random\n",
    "def getSample(size):\n",
    "    imgs = []\n",
    "    pres = []\n",
    "    nexs = []\n",
    "    for i in range(size):\n",
    "        pre, nex, img = random.choice(datasets)\n",
    "        imgs.append(img)\n",
    "        pres.append(pre)\n",
    "        nexs.append(nex)\n",
    "    return pres, nexs, imgs"
   ]
  },
  {
   "cell_type": "code",
   "execution_count": 4,
   "metadata": {},
   "outputs": [],
   "source": [
    "lang = Lang(\"test\", split=\" \")"
   ]
  },
  {
   "cell_type": "code",
   "execution_count": 5,
   "metadata": {},
   "outputs": [],
   "source": [
    "class Gesd(nn.Module):\n",
    "    def __init__(self, gamma=1, c=1, reduce=True):\n",
    "        super(Gesd, self).__init__()\n",
    "        self.gamma = gamma\n",
    "        self.c = c\n",
    "        self.reduce = reduce\n",
    "\n",
    "    def forward(self, f1,f2):\n",
    "        l2_norm = ((f1-f2) ** 2).sum(dim=1)\n",
    "        euclidean = 1 / (1 + l2_norm)\n",
    "        sigmoid  = 1 / (1 + torch.exp(-1 * self.gamma * ((f1*f2).sum(dim=1) + self.c)))\n",
    "        output = euclidean * sigmoid\n",
    "        return output"
   ]
  },
  {
   "cell_type": "code",
   "execution_count": 6,
   "metadata": {},
   "outputs": [],
   "source": [
    "from model.model import EncoderRNN\n",
    "from utils.tool import getLastOutputs\n",
    "from utils.tool import padding, flatMutileLength, Timer, Average"
   ]
  },
  {
   "cell_type": "code",
   "execution_count": 7,
   "metadata": {},
   "outputs": [],
   "source": [
    "class GesdSimilarity(nn.Module):\n",
    "    def __init__(self, subencoder_setting, gamma=1, c=1):\n",
    "        super(GesdSimilarity, self).__init__()\n",
    "        self.preEncoder = EncoderRNN(**subencoder_setting)\n",
    "        self.nextEncoder = EncoderRNN(**subencoder_setting)\n",
    "        self.gesd = Gesd(gamma=gamma, c=c)\n",
    "\n",
    "    def forward(self, s1, s2):\n",
    "        if(isinstance(s1, tuple)):\n",
    "            s1Sentence, s1Lengths = s1\n",
    "        else:\n",
    "            s1Sentence = s1\n",
    "            s1Lengths = [s1.size(1)]*s1.size(0)\n",
    "            \n",
    "        if(isinstance(s2, tuple)):\n",
    "            s2Sentence, s2Lengths = s2\n",
    "        else:\n",
    "            s2Sentence = s2\n",
    "            s2Lengths = [s2.size(1)]*s2.size(0)\n",
    "            \n",
    "        feature1, _ = self.preEncoder(s1Sentence)\n",
    "        feature2, _ = self.nextEncoder(s2Sentence)\n",
    "        \n",
    "        feature1 = getLastOutputs(feature1, s1Lengths)\n",
    "        feature2 = getLastOutputs(feature2, s2Lengths)\n",
    "        \n",
    "        output = self.gesd(feature1, feature2)\n",
    "        return output"
   ]
  },
  {
   "cell_type": "code",
   "execution_count": 8,
   "metadata": {},
   "outputs": [
    {
     "name": "stderr",
     "output_type": "stream",
     "text": [
      "/home/ball/anaconda3/lib/python3.5/site-packages/torch/nn/modules/rnn.py:38: UserWarning: dropout option adds dropout after all but last recurrent layer, so non-zero dropout expects num_layers greater than 1, but got dropout=0.5 and num_layers=1\n",
      "  \"num_layers={}\".format(dropout, num_layers))\n"
     ]
    }
   ],
   "source": [
    "subencoderOpt = {\n",
    "    \"word_size\": 10000,\n",
    "    \"em_size\": 512,\n",
    "    \"hidden_size\": 512,\n",
    "    \"output_size\": 512 \n",
    "}\n",
    "model = GesdSimilarity(subencoderOpt)"
   ]
  },
  {
   "cell_type": "code",
   "execution_count": 9,
   "metadata": {},
   "outputs": [],
   "source": [
    "pres, nexs, imgs = getSample(6)"
   ]
  },
  {
   "cell_type": "code",
   "execution_count": 10,
   "metadata": {},
   "outputs": [],
   "source": [
    "for pre in pres+nexs:\n",
    "    lang.addSentance(pre)"
   ]
  },
  {
   "cell_type": "code",
   "execution_count": 11,
   "metadata": {},
   "outputs": [],
   "source": [
    "vectorTransforms = [torch.LongTensor, Variable]\n",
    "def sentenceToVector(sentences, lang, sos=False, eos=False):\n",
    "    vectors = []\n",
    "    for s in sentences:\n",
    "        vectors.append(lang.sentenceToVector(s, sos=sos, eos=eos))\n",
    "    vectors = padding(vectors, lang[\"PAD\"], vectorTransforms)\n",
    "    return vectors"
   ]
  },
  {
   "cell_type": "code",
   "execution_count": 14,
   "metadata": {},
   "outputs": [],
   "source": [
    "def makeNegSample(pres, nexs, negSize):\n",
    "    mpres = []\n",
    "    mnexts = []\n",
    "    scores = []\n",
    "    for pre, nex in zip(pres, nexs):\n",
    "        while True:\n",
    "            negs = random.sample(nexs, negSize)\n",
    "            if not nex in negs:\n",
    "                break\n",
    "        mpres +=[pre] * (negSize + 1)\n",
    "        mnexts += [nex] + negs\n",
    "        scores += [1] + [0] * negSize\n",
    "    return mpres, mnexts, scores"
   ]
  },
  {
   "cell_type": "code",
   "execution_count": 27,
   "metadata": {},
   "outputs": [],
   "source": [
    "data = model.preEncoder(vpres[0])[0][:,-1,:]"
   ]
  },
  {
   "cell_type": "code",
   "execution_count": 26,
   "metadata": {},
   "outputs": [
    {
     "data": {
      "text/plain": [
       "tensor([[  4,   5,   6,   7,   0,   0,   0,   0,   0,   0],\n",
       "        [  4,   5,   6,   7,   0,   0,   0,   0,   0,   0],\n",
       "        [  4,   5,   6,   7,   0,   0,   0,   0,   0,   0],\n",
       "        [  8,   9,  10,   4,  11,  12,  13,  14,  15,   0],\n",
       "        [  8,   9,  10,   4,  11,  12,  13,  14,  15,   0],\n",
       "        [  8,   9,  10,   4,  11,  12,  13,  14,  15,   0],\n",
       "        [ 16,  17,   0,   0,   0,   0,   0,   0,   0,   0],\n",
       "        [ 16,  17,   0,   0,   0,   0,   0,   0,   0,   0],\n",
       "        [ 16,  17,   0,   0,   0,   0,   0,   0,   0,   0],\n",
       "        [ 18,   0,   0,   0,   0,   0,   0,   0,   0,   0],\n",
       "        [ 18,   0,   0,   0,   0,   0,   0,   0,   0,   0],\n",
       "        [ 18,   0,   0,   0,   0,   0,   0,   0,   0,   0],\n",
       "        [ 19,  20,  21,  22,  23,  24,  25,  26,   9,  27],\n",
       "        [ 19,  20,  21,  22,  23,  24,  25,  26,   9,  27],\n",
       "        [ 19,  20,  21,  22,  23,  24,  25,  26,   9,  27],\n",
       "        [ 28,  29,  30,  31,  32,  33,  34,   0,   0,   0],\n",
       "        [ 28,  29,  30,  31,  32,  33,  34,   0,   0,   0],\n",
       "        [ 28,  29,  30,  31,  32,  33,  34,   0,   0,   0]])"
      ]
     },
     "execution_count": 26,
     "metadata": {},
     "output_type": "execute_result"
    }
   ],
   "source": [
    "vpres[0]"
   ]
  },
  {
   "cell_type": "code",
   "execution_count": 15,
   "metadata": {},
   "outputs": [],
   "source": [
    "p,n,s = makeNegSample(pres, nexs, negSize=2)"
   ]
  },
  {
   "cell_type": "code",
   "execution_count": 16,
   "metadata": {},
   "outputs": [],
   "source": [
    "vpres = sentenceToVector(p, lang)\n",
    "vnexts = sentenceToVector(n, lang)\n",
    "scores = Variable(torch.Tensor(s))"
   ]
  },
  {
   "cell_type": "code",
   "execution_count": 29,
   "metadata": {},
   "outputs": [],
   "source": [
    "outputs = gesd(data, data)"
   ]
  },
  {
   "cell_type": "code",
   "execution_count": 28,
   "metadata": {},
   "outputs": [],
   "source": [
    "gesd = Gesd()"
   ]
  },
  {
   "cell_type": "code",
   "execution_count": 18,
   "metadata": {},
   "outputs": [],
   "source": [
    "criterion = nn.BCELoss()"
   ]
  },
  {
   "cell_type": "code",
   "execution_count": 37,
   "metadata": {},
   "outputs": [],
   "source": [
    "loss = criterion(outputs, torch.ones(outputs.size(0)))"
   ]
  },
  {
   "cell_type": "code",
   "execution_count": 20,
   "metadata": {},
   "outputs": [
    {
     "data": {
      "text/plain": [
       "tensor([ 1.,  0.,  1.])"
      ]
     },
     "execution_count": 20,
     "metadata": {},
     "output_type": "execute_result"
    }
   ],
   "source": [
    "torch.empty(3).random_(2)"
   ]
  },
  {
   "cell_type": "code",
   "execution_count": 36,
   "metadata": {},
   "outputs": [
    {
     "data": {
      "text/plain": [
       "tensor([ 1.,  1.,  1.,  1.,  1.,  1.,  1.,  1.,  1.,  1.,  1.,  1.,\n",
       "         1.,  1.,  1.,  1.,  1.,  1.])"
      ]
     },
     "execution_count": 36,
     "metadata": {},
     "output_type": "execute_result"
    }
   ],
   "source": [
    "Variable(torch.ones(outputs.size(0)))"
   ]
  },
  {
   "cell_type": "code",
   "execution_count": 38,
   "metadata": {},
   "outputs": [
    {
     "data": {
      "text/plain": [
       "tensor(0.1253)"
      ]
     },
     "execution_count": 38,
     "metadata": {},
     "output_type": "execute_result"
    }
   ],
   "source": [
    "loss"
   ]
  },
  {
   "cell_type": "code",
   "execution_count": 40,
   "metadata": {},
   "outputs": [
    {
     "ename": "ImportError",
     "evalue": "cannot import name 'trainer'",
     "output_type": "error",
     "traceback": [
      "\u001b[0;31m---------------------------------------------------------------------------\u001b[0m",
      "\u001b[0;31mImportError\u001b[0m                               Traceback (most recent call last)",
      "\u001b[0;32m<ipython-input-40-2fcc5a6d300e>\u001b[0m in \u001b[0;36m<module>\u001b[0;34m()\u001b[0m\n\u001b[0;32m----> 1\u001b[0;31m \u001b[0;32mfrom\u001b[0m \u001b[0mSimilarity\u001b[0m \u001b[0;32mimport\u001b[0m \u001b[0mtrainer\u001b[0m\u001b[0;34m\u001b[0m\u001b[0m\n\u001b[0m",
      "\u001b[0;31mImportError\u001b[0m: cannot import name 'trainer'"
     ]
    }
   ],
   "source": [
    "from Similarity import trainer"
   ]
  },
  {
   "cell_type": "code",
   "execution_count": 42,
   "metadata": {},
   "outputs": [],
   "source": [
    "from Similarity import "
   ]
  },
  {
   "cell_type": "code",
   "execution_count": null,
   "metadata": {},
   "outputs": [],
   "source": []
  }
 ],
 "metadata": {
  "kernelspec": {
   "display_name": "Python 3",
   "language": "python",
   "name": "python3"
  },
  "language_info": {
   "codemirror_mode": {
    "name": "ipython",
    "version": 3
   },
   "file_extension": ".py",
   "mimetype": "text/x-python",
   "name": "python",
   "nbconvert_exporter": "python",
   "pygments_lexer": "ipython3",
   "version": "3.5.5"
  }
 },
 "nbformat": 4,
 "nbformat_minor": 2
}
