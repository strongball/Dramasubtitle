{
 "cells": [
  {
   "cell_type": "code",
   "execution_count": 1,
   "metadata": {},
   "outputs": [],
   "source": [
    "import torch \n",
    "import torch.utils.data\n",
    "import torch.nn as nn\n",
    "from torch.autograd import Variable\n",
    "\n",
    "from dataset.readVideo import DramaDataset\n",
    "from NGram.tool import NGram, trigrams\n",
    "from utils.tokenMaker import Lang\n",
    "import pickle\n",
    "\n",
    "useCuda = False\n",
    "Variable = Variable.cuda if useCuda else Variable"
   ]
  },
  {
   "cell_type": "code",
   "execution_count": 5,
   "metadata": {},
   "outputs": [
    {
     "name": "stdout",
     "output_type": "stream",
     "text": [
      "Total Drama: 113\n"
     ]
    }
   ],
   "source": [
    "DataDir=\"/home/ball/Videos/BrokeEN\"\n",
    "datasets = DramaDataset(basedir=DataDir,\n",
    "                        maxFrame=0,\n",
    "                        )\n",
    "loader = torch.utils.data.DataLoader(datasets, batch_size=2, shuffle=True, num_workers=2)"
   ]
  },
  {
   "cell_type": "code",
   "execution_count": 2,
   "metadata": {},
   "outputs": [],
   "source": [
    "def getEncoder(sub):\n",
    "    subVar =  Variable(torch.LongTensor(lang.sentenceToVector(sub, sos=False, eos=False)).unsqueeze(0))    \n",
    "    return model.embeddings(subVar).sum(dim=1)\n",
    "\n",
    "def getCos(s1,s2):\n",
    "    eq1 = getEncoder(s1)\n",
    "    eq2 = getEncoder(s2)\n",
    "    data = cos(eq1, eq2).mean() #cos\n",
    "    return data.cpu().data[0]\n",
    "\n",
    "cos = nn.CosineSimilarity(dim=1)"
   ]
  },
  {
   "cell_type": "code",
   "execution_count": null,
   "metadata": {},
   "outputs": [
    {
     "name": "stdout",
     "output_type": "stream",
     "text": [
      "Load lang model: NGram/model/Lang.pkl. Word size: 15512\n"
     ]
    }
   ],
   "source": [
    "LangFile = (\"NGram/model/Lang.pkl\")\n",
    "with open(LangFile, 'rb') as f:\n",
    "    lang = pickle.load(f)\n",
    "    print(\"Load lang model: {}. Word size: {}\".format(LangFile, len(lang)))\n",
    "model = torch.load(\"NGram/model/NGram.5.pkl\").cpu()"
   ]
  },
  {
   "cell_type": "code",
   "execution_count": 44,
   "metadata": {},
   "outputs": [],
   "source": [
    "sent = \"ball\"\n",
    "sent2 = \"baseball\""
   ]
  },
  {
   "cell_type": "code",
   "execution_count": 45,
   "metadata": {},
   "outputs": [
    {
     "data": {
      "text/plain": [
       "0.006567817181348801"
      ]
     },
     "execution_count": 45,
     "metadata": {},
     "output_type": "execute_result"
    }
   ],
   "source": [
    "getCos(sent, sent2)"
   ]
  },
  {
   "cell_type": "code",
   "execution_count": 27,
   "metadata": {},
   "outputs": [
    {
     "data": {
      "text/plain": [
       "torch.Size([1, 256])"
      ]
     },
     "execution_count": 27,
     "metadata": {},
     "output_type": "execute_result"
    }
   ],
   "source": [
    "getEncoder(sent).sum(dim=1).size()"
   ]
  },
  {
   "cell_type": "code",
   "execution_count": null,
   "metadata": {},
   "outputs": [],
   "source": []
  }
 ],
 "metadata": {
  "kernelspec": {
   "display_name": "Python 3",
   "language": "python",
   "name": "python3"
  },
  "language_info": {
   "codemirror_mode": {
    "name": "ipython",
    "version": 3
   },
   "file_extension": ".py",
   "mimetype": "text/x-python",
   "name": "python",
   "nbconvert_exporter": "python",
   "pygments_lexer": "ipython3",
   "version": "3.5.5"
  }
 },
 "nbformat": 4,
 "nbformat_minor": 2
}
