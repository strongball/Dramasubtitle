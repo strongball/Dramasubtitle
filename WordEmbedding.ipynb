{
 "cells": [
  {
   "cell_type": "code",
   "execution_count": 1,
   "metadata": {},
   "outputs": [],
   "source": [
    "import torch \n",
    "import torch.utils.data\n",
    "import torch.nn as nn\n",
    "from torch.autograd import Variable\n",
    "\n",
    "from dataset.readVideo import DramaDataset\n",
    "from utils.tokenMaker import Lang\n",
    "from utils.tool import padding\n",
    "import pickle\n",
    "import os\n",
    "import matplotlib.pyplot as plt\n",
    "from Similarity.model import GesdSimilarity\n",
    "useCuda = True\n",
    "device = torch.device(\"cuda\" if useCuda else \"cpu\")"
   ]
  },
  {
   "cell_type": "code",
   "execution_count": 2,
   "metadata": {},
   "outputs": [
    {
     "name": "stdout",
     "output_type": "stream",
     "text": [
      "Total Drama: 113\n"
     ]
    }
   ],
   "source": [
    "DataDir=\"/home/ball/Videos/BrokeEN\"\n",
    "datasets = DramaDataset(basedir=DataDir,\n",
    "                        maxFrame=0,\n",
    "                        )\n",
    "import random\n",
    "def getSample(size):\n",
    "    imgs = []\n",
    "    pres = []\n",
    "    nexs = []\n",
    "    for i in range(size):\n",
    "        pre, nex, img = random.choice(datasets)\n",
    "        imgs.append(img)\n",
    "        pres.append(pre)\n",
    "        nexs.append(nex)\n",
    "    return pres, nexs, imgs"
   ]
  },
  {
   "cell_type": "code",
   "execution_count": 3,
   "metadata": {},
   "outputs": [
    {
     "name": "stdout",
     "output_type": "stream",
     "text": [
      "Load lang model: Similarity/models/second. Word size: 15479\n"
     ]
    },
    {
     "name": "stderr",
     "output_type": "stream",
     "text": [
      "/home/ball/anaconda3/lib/python3.5/site-packages/torch/serialization.py:367: SourceChangeWarning: source code of class 'model.model.EncoderRNN' has changed. you can retrieve the original source code by accessing the object's source attribute or set `torch.nn.Module.dump_patches = True` and use the patch tool to revert the changes.\n",
      "  warnings.warn(msg, SourceChangeWarning)\n"
     ]
    }
   ],
   "source": [
    "ModelDir = \"Similarity/models/second\"\n",
    "with open(os.path.join(ModelDir, \"Lang.pkl\"), 'rb') as f:\n",
    "    lang = pickle.load(f)\n",
    "    print(\"Load lang model: {}. Word size: {}\".format(ModelDir, len(lang)))\n",
    "model = torch.load(os.path.join(ModelDir, \"SimilarityModel.39.pth\")).to(device).eval()"
   ]
  },
  {
   "cell_type": "code",
   "execution_count": 4,
   "metadata": {},
   "outputs": [],
   "source": [
    "vectorTransforms = [lambda x: torch.LongTensor(x).to(device)]\n",
    "def sentenceToVector(sentences, lang, sos=False, eos=False):\n",
    "    vectors = []\n",
    "    for s in sentences:\n",
    "        vectors.append(lang.sentenceToVector(s, sos=sos, eos=eos))\n",
    "    vectors = padding(vectors, lang[\"PAD\"], vectorTransforms)\n",
    "    return vectors"
   ]
  },
  {
   "cell_type": "code",
   "execution_count": 5,
   "metadata": {},
   "outputs": [],
   "source": [
    "def makeNegSample(pres, nexs, negSize):\n",
    "    mpres = []\n",
    "    mnexts = []\n",
    "    scores = []\n",
    "    for pre, nex in zip(pres, nexs):\n",
    "        while True:\n",
    "            negs = random.sample(nexs, negSize)\n",
    "            if not nex in negs:\n",
    "                break\n",
    "        mpres +=[pre] * (negSize + 1)\n",
    "        mnexts += [nex] + negs\n",
    "        scores += [1] + [0] * negSize\n",
    "    return mpres, mnexts, scores"
   ]
  },
  {
   "cell_type": "code",
   "execution_count": 6,
   "metadata": {},
   "outputs": [],
   "source": [
    "pres, nexs, imgs = getSample(32)"
   ]
  },
  {
   "cell_type": "code",
   "execution_count": 7,
   "metadata": {},
   "outputs": [],
   "source": [
    "p,n,s = makeNegSample(pres, nexs, negSize=3)\n",
    "vpres = sentenceToVector(p, lang)\n",
    "vnexts = sentenceToVector(n, lang)\n",
    "scores = torch.Tensor(s).to(device)"
   ]
  },
  {
   "cell_type": "code",
   "execution_count": 10,
   "metadata": {},
   "outputs": [
    {
     "data": {
      "text/plain": [
       "tensor(1., device='cuda:0')"
      ]
     },
     "execution_count": 10,
     "metadata": {},
     "output_type": "execute_result"
    }
   ],
   "source": [
    "outputs = model(vpres, vnexts)\n",
    "(outputs.round() == scores).float().mean()"
   ]
  },
  {
   "cell_type": "code",
   "execution_count": 11,
   "metadata": {},
   "outputs": [
    {
     "data": {
      "image/png": "[encoded data removed]",
      "text/plain": [
       "<Figure size 432x288 with 1 Axes>"
      ]
     },
     "metadata": {},
     "output_type": "display_data"
    }
   ],
   "source": [
    "import matplotlib.pyplot as plt\n",
    "plt.scatter(outputs.cpu().detach().numpy(), scores.cpu().detach().numpy())\n",
    "plt.show()"
   ]
  },
  {
   "cell_type": "code",
   "execution_count": 6,
   "metadata": {},
   "outputs": [],
   "source": [
    "import pandas as pd\n",
    "result = pd.read_json(\"result.json\")"
   ]
  },
  {
   "cell_type": "code",
   "execution_count": 7,
   "metadata": {},
   "outputs": [],
   "source": [
    "vpres = sentenceToVector(result[\"pre\"], lang)\n",
    "vnexts = sentenceToVector(result[\"make\"], lang)"
   ]
  },
  {
   "cell_type": "code",
   "execution_count": 8,
   "metadata": {},
   "outputs": [],
   "source": [
    "outputs = model(vpres, vnexts)"
   ]
  },
  {
   "cell_type": "code",
   "execution_count": 9,
   "metadata": {},
   "outputs": [],
   "source": [
    "dsOutput = pd.Series(outputs.detach())"
   ]
  },
  {
   "cell_type": "code",
   "execution_count": 10,
   "metadata": {},
   "outputs": [
    {
     "name": "stdout",
     "output_type": "stream",
     "text": [
      "count    144.000000\n",
      "mean       0.089604\n",
      "std        0.144128\n",
      "min        0.000145\n",
      "25%        0.031183\n",
      "50%        0.055557\n",
      "75%        0.089111\n",
      "max        0.966471\n",
      "dtype: float64\n"
     ]
    },
    {
     "data": {
      "image/png": "[encoded data removed]",
      "text/plain": [
       "<Figure size 432x288 with 1 Axes>"
      ]
     },
     "metadata": {},
     "output_type": "display_data"
    }
   ],
   "source": [
    "dsOutput.hist()\n",
    "print(dsOutput.describe())\n",
    "plt.show()"
   ]
  },
  {
   "cell_type": "code",
   "execution_count": null,
   "metadata": {},
   "outputs": [],
   "source": []
  }
 ],
 "metadata": {
  "kernelspec": {
   "display_name": "Python 3",
   "language": "python",
   "name": "python3"
  },
  "language_info": {
   "codemirror_mode": {
    "name": "ipython",
    "version": 3
   },
   "file_extension": ".py",
   "mimetype": "text/x-python",
   "name": "python",
   "nbconvert_exporter": "python",
   "pygments_lexer": "ipython3",
   "version": "3.5.5"
  }
 },
 "nbformat": 4,
 "nbformat_minor": 2
}
