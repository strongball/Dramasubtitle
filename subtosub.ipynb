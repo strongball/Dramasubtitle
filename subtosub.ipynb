{
 "cells": [
  {
   "cell_type": "code",
   "execution_count": 1,
   "metadata": {},
   "outputs": [],
   "source": [
    "import torch\n",
    "import torch.nn as nn\n",
    "from torch.autograd import Variable\n",
    "from torch import optim\n",
    "\n",
    "import pickle\n",
    "\n",
    "from modal.BigModal import SubToSeq\n",
    "from utils.tokenMaker import Lang\n",
    "from utils.tool import padding, flatMutileLength, Timer, Average\n",
    "from dataset.readVideo import DramaDataset\n",
    "useCuda = True\n",
    "Variable = Variable.cuda if useCuda else Variable"
   ]
  },
  {
   "cell_type": "code",
   "execution_count": 2,
   "metadata": {},
   "outputs": [],
   "source": [
    "import torch.utils.data\n",
    "DataDir = \"/home/ball/Videos/Broke\"\n",
    "datasets = DramaDataset(basedir=DataDir,\n",
    "                    maxFrame=0,\n",
    "                    )\n",
    "loader = torch.utils.data.DataLoader(datasets, batch_size=5, shuffle=True, num_workers=2)"
   ]
  },
  {
   "cell_type": "code",
   "execution_count": 16,
   "metadata": {},
   "outputs": [
    {
     "name": "stdout",
     "output_type": "stream",
     "text": [
      "Load lang model: SubToSub/modals/layer1/. Word size: 2579\n"
     ]
    }
   ],
   "source": [
    "ModalFile = \"SubToSub/modals/layer1/\"\n",
    "modal = torch.load(ModalFile+\"SubSubModal.10.pth\")\n",
    "with open(ModalFile+\"Lang.pkl\", 'rb') as f:\n",
    "    lang = pickle.load(f)\n",
    "    print(\"Load lang model: {}. Word size: {}\".format(ModalFile, len(lang)))"
   ]
  },
  {
   "cell_type": "code",
   "execution_count": 4,
   "metadata": {},
   "outputs": [],
   "source": [
    "subencoderOpt = {\n",
    "    \"word_size\": len(lang),\n",
    "    \"em_size\": 256,\n",
    "    \"hidden_size\": 256,\n",
    "    \"num_layers\": 2,\n",
    "    \"output_size\": 512 \n",
    "}\n",
    "decoderOpt = {\n",
    "    \"word_size\": len(lang),\n",
    "    \"em_size\": 256,\n",
    "    \"hidden_size\": 26,\n",
    "    \"num_layers\": 2,\n",
    "    \"feature_size\": 512 \n",
    "}\n",
    "modal = SubToSeq(subencoderOpt, decoderOpt).cuda()"
   ]
  },
  {
   "cell_type": "code",
   "execution_count": 6,
   "metadata": {},
   "outputs": [],
   "source": [
    "def transData(in_sents, target_sents, lang):\n",
    "    in_seqs = []\n",
    "    in_targets = []\n",
    "    out_targets = []\n",
    "    \n",
    "    vectorTransforms = [torch.LongTensor, Variable]\n",
    "    \n",
    "    for sent in in_sents:\n",
    "        in_seqs.append(lang.sentenceToVector(sent, sos=False, eos=False))\n",
    "    in_seqs = padding(in_seqs, lang[\"PAD\"], vectorTransforms)\n",
    "    \n",
    "    for sent in target_sents:\n",
    "        in_targets.append(lang.sentenceToVector(sent, sos=True, eos=False))\n",
    "        out_targets.append(lang.sentenceToVector(sent, sos=False, eos=True))\n",
    "    in_targets = padding(in_targets, lang[\"PAD\"], vectorTransforms)\n",
    "    out_targets = padding(out_targets, lang[\"PAD\"], vectorTransforms)\n",
    "    return in_seqs, in_targets, out_targets"
   ]
  },
  {
   "cell_type": "code",
   "execution_count": 7,
   "metadata": {},
   "outputs": [],
   "source": [
    "def predit(modal, lang, in_sents, max_length=50):\n",
    "    ans = []\n",
    "    probs = []\n",
    "    in_seq = Variable(torch.LongTensor(lang.sentenceToVector(in_sents, sos=False, eos=False)).unsqueeze(0))\n",
    "    inputs = Variable(torch.LongTensor([[lang[\"SOS\"]]]).long())\n",
    "    hidden = None\n",
    "    \n",
    "    cxt = modal.makeContext(in_seq)\n",
    "    for i in range(max_length):\n",
    "        outputs, hidden = modal.decode(inputs, cxt, hidden)\n",
    "        prob, outputs = outputs.topk(1)\n",
    "        outputs = outputs[0][0].data[0]\n",
    "        if(outputs == lang[\"EOS\"]):\n",
    "            break\n",
    "        probs.append(prob)\n",
    "        ans.append(outputs)\n",
    "        inputs = Variable(torch.LongTensor([[outputs]]))\n",
    "    return lang.vectorToSentence(ans), probs"
   ]
  },
  {
   "cell_type": "code",
   "execution_count": 8,
   "metadata": {},
   "outputs": [],
   "source": [
    "import matplotlib.pyplot as plt\n",
    "def showVar(data):\n",
    "    x = range(0, data.size(-1))\n",
    "    plt.bar(x, data.data.cpu())\n",
    "    plt.show()"
   ]
  },
  {
   "cell_type": "code",
   "execution_count": 9,
   "metadata": {},
   "outputs": [],
   "source": [
    "it = iter(loader)"
   ]
  },
  {
   "cell_type": "code",
   "execution_count": 20,
   "metadata": {},
   "outputs": [],
   "source": [
    "pres, nexs, imgs = it.next()"
   ]
  },
  {
   "cell_type": "code",
   "execution_count": 21,
   "metadata": {},
   "outputs": [
    {
     "name": "stdout",
     "output_type": "stream",
     "text": [
      "Pre  : 當朋友陷於油惠券狂熱之中時\n",
      "Next : 她爲了一盒特別的蛋糕粉 堅守底線\n",
      "Modal: 我們去了白車了\n",
      "\n",
      "\n",
      "Pre  : 但我媽總說不要用心\n",
      "Next : 只有頭腦才能做音樂\n",
      "Modal: 我們去來了一克力了\n",
      "\n",
      "\n",
      "Pre  : i 306度天堂 培根 i\n",
      "Next : 看看這書名 306度天堂 培根\n",
      "Modal: 看看看該這個嗎這個\n",
      "\n",
      "\n",
      "Pre  : 是誰呀\n",
      "Next : 我是Caroline 住對門\n",
      "Modal: 我 Soline 是Caroline Caroline Caroline Caroline Caro\n",
      "\n",
      "\n",
      "Pre  : 有時 我找個瓶子幫自己度過難關\n",
      "Next : 或着找根針 或是找個女的\n",
      "Modal: 是那個的時候 這個兒\n",
      "\n",
      "\n"
     ]
    }
   ],
   "source": [
    "modal.eval()\n",
    "for pre, nex in zip(pres, nexs):\n",
    "    pred = predit(modal, lang, pre)\n",
    "    print(\"Pre  : {}\\nNext : {}\\nModal: {}\\n\\n\".format(pre, nex, pred[0]))"
   ]
  },
  {
   "cell_type": "code",
   "execution_count": 12,
   "metadata": {},
   "outputs": [],
   "source": [
    "in_seq = Variable(torch.LongTensor(lang.sentenceToVector(pres[1], sos=False, eos=False)).unsqueeze(0))\n",
    "inputs = Variable(torch.LongTensor([[lang[\"SOS\"]]]).long())\n",
    "hidden = None\n",
    "\n",
    "cxt = modal.makeContext(in_seq)"
   ]
  },
  {
   "cell_type": "code",
   "execution_count": 13,
   "metadata": {},
   "outputs": [],
   "source": [
    "outputs, hidden = modal.decode(inputs, cxt, hidden)"
   ]
  },
  {
   "cell_type": "code",
   "execution_count": 14,
   "metadata": {},
   "outputs": [
    {
     "data": {
      "text/plain": [
       "(Variable containing:\n",
       " (0 ,.,.) = \n",
       "   0.1233  0.0689  0.0528\n",
       " [torch.cuda.FloatTensor of size 1x1x3 (GPU 0)], Variable containing:\n",
       " (0 ,.,.) = \n",
       "   11  13  31\n",
       " [torch.cuda.LongTensor of size 1x1x3 (GPU 0)])"
      ]
     },
     "execution_count": 14,
     "metadata": {},
     "output_type": "execute_result"
    }
   ],
   "source": [
    "outputs.topk(3)"
   ]
  },
  {
   "cell_type": "code",
   "execution_count": 15,
   "metadata": {},
   "outputs": [
    {
     "data": {
      "text/plain": [
       "(Variable containing:\n",
       "  1.1281  1.0775  1.0400\n",
       " [torch.cuda.FloatTensor of size 1x3 (GPU 0)], Variable containing:\n",
       "  466   23   94\n",
       " [torch.cuda.LongTensor of size 1x3 (GPU 0)])"
      ]
     },
     "execution_count": 15,
     "metadata": {},
     "output_type": "execute_result"
    }
   ],
   "source": [
    "cxt.topk(3)"
   ]
  },
  {
   "cell_type": "code",
   "execution_count": 63,
   "metadata": {},
   "outputs": [
    {
     "data": {
      "image/png": "[encoded data removed]",
      "text/plain": [
       "<Figure size 432x288 with 1 Axes>"
      ]
     },
     "metadata": {},
     "output_type": "display_data"
    }
   ],
   "source": [
    "showVar(outputs[0,0,:1000])"
   ]
  },
  {
   "cell_type": "code",
   "execution_count": 18,
   "metadata": {},
   "outputs": [
    {
     "name": "stdout",
     "output_type": "stream",
     "text": [
      "\n",
      "(0 ,.,.) = \n",
      "1.00000e-05 *\n",
      "   9.0651  8.3885  8.3885  8.3885  8.3885\n",
      "[torch.cuda.FloatTensor of size 1x1x5 (GPU 0)]\n",
      " \n",
      "(0 ,.,.) = \n",
      "  243    2    0    3    1\n",
      "[torch.cuda.LongTensor of size 1x1x5 (GPU 0)]\n",
      "\n"
     ]
    }
   ],
   "source": [
    "prob, outputs = outputs.data.topk(5)\n",
    "print(prob, outputs)"
   ]
  },
  {
   "cell_type": "code",
   "execution_count": 13,
   "metadata": {},
   "outputs": [],
   "source": [
    "inputs = Variable(torch.LongTensor([[outputs[0,0][1]]]))\n",
    "outputs, hidden = modal.decode(inputs, cxt, hidden)"
   ]
  },
  {
   "cell_type": "code",
   "execution_count": 14,
   "metadata": {},
   "outputs": [
    {
     "name": "stdout",
     "output_type": "stream",
     "text": [
      "\n",
      "(0 ,.,.) = \n",
      "1.00000e-04 *\n",
      "   2.4216  1.0642  0.8387  0.8387  0.8387\n",
      "[torch.cuda.FloatTensor of size 1x1x5 (GPU 0)]\n",
      " \n",
      "(0 ,.,.) = \n",
      "   4891  10552      2      1      0\n",
      "[torch.cuda.LongTensor of size 1x1x5 (GPU 0)]\n",
      "\n"
     ]
    }
   ],
   "source": [
    "prob, outputs = outputs.data.topk(5)\n",
    "print(prob, outputs)"
   ]
  },
  {
   "cell_type": "code",
   "execution_count": 131,
   "metadata": {},
   "outputs": [
    {
     "data": {
      "text/plain": [
       "'夥計'"
      ]
     },
     "execution_count": 131,
     "metadata": {},
     "output_type": "execute_result"
    }
   ],
   "source": [
    "lang[11]"
   ]
  },
  {
   "cell_type": "code",
   "execution_count": 56,
   "metadata": {},
   "outputs": [
    {
     "data": {
      "image/png": "[encoded data removed]",
      "text/plain": [
       "<Figure size 432x288 with 1 Axes>"
      ]
     },
     "metadata": {},
     "output_type": "display_data"
    }
   ],
   "source": [
    "showVar(outputs.topk(5)[0][0,0,:])"
   ]
  },
  {
   "cell_type": "code",
   "execution_count": 45,
   "metadata": {},
   "outputs": [
    {
     "data": {
      "image/png": "[encoded data removed]",
      "text/plain": [
       "<Figure size 432x288 with 1 Axes>"
      ]
     },
     "metadata": {},
     "output_type": "display_data"
    }
   ],
   "source": [
    "showVar(outputs[0][0])"
   ]
  },
  {
   "cell_type": "code",
   "execution_count": 50,
   "metadata": {},
   "outputs": [
    {
     "data": {
      "text/plain": [
       "'嘿'"
      ]
     },
     "execution_count": 50,
     "metadata": {},
     "output_type": "execute_result"
    }
   ],
   "source": [
    "lang[1107]"
   ]
  },
  {
   "cell_type": "code",
   "execution_count": null,
   "metadata": {},
   "outputs": [],
   "source": []
  }
 ],
 "metadata": {
  "kernelspec": {
   "display_name": "Python 3",
   "language": "python",
   "name": "python3"
  },
  "language_info": {
   "codemirror_mode": {
    "name": "ipython",
    "version": 3
   },
   "file_extension": ".py",
   "mimetype": "text/x-python",
   "name": "python",
   "nbconvert_exporter": "python",
   "pygments_lexer": "ipython3",
   "version": "3.5.5"
  }
 },
 "nbformat": 4,
 "nbformat_minor": 2
}
