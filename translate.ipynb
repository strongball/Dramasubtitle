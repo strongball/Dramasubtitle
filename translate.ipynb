{
 "cells": [
  {
   "cell_type": "code",
   "execution_count": 1,
   "metadata": {},
   "outputs": [
    {
     "ename": "ImportError",
     "evalue": "No module named 'modal'",
     "output_type": "error",
     "traceback": [
      "\u001b[0;31m---------------------------------------------------------------------------\u001b[0m",
      "\u001b[0;31mImportError\u001b[0m                               Traceback (most recent call last)",
      "\u001b[0;32m<ipython-input-1-e369a66d99cb>\u001b[0m in \u001b[0;36m<module>\u001b[0;34m()\u001b[0m\n\u001b[1;32m      4\u001b[0m \u001b[0;32mfrom\u001b[0m \u001b[0mtorch\u001b[0m \u001b[0;32mimport\u001b[0m \u001b[0moptim\u001b[0m\u001b[0;34m\u001b[0m\u001b[0m\n\u001b[1;32m      5\u001b[0m \u001b[0;34m\u001b[0m\u001b[0m\n\u001b[0;32m----> 6\u001b[0;31m \u001b[0;32mfrom\u001b[0m \u001b[0mmodal\u001b[0m\u001b[0;34m.\u001b[0m\u001b[0mBigModal\u001b[0m \u001b[0;32mimport\u001b[0m \u001b[0mSubToSeq\u001b[0m\u001b[0;34m\u001b[0m\u001b[0m\n\u001b[0m\u001b[1;32m      7\u001b[0m \u001b[0;32mfrom\u001b[0m \u001b[0mutils\u001b[0m\u001b[0;34m.\u001b[0m\u001b[0mtokenMaker\u001b[0m \u001b[0;32mimport\u001b[0m \u001b[0mLang\u001b[0m\u001b[0;34m\u001b[0m\u001b[0m\n\u001b[1;32m      8\u001b[0m \u001b[0;32mfrom\u001b[0m \u001b[0mutils\u001b[0m\u001b[0;34m.\u001b[0m\u001b[0mtool\u001b[0m \u001b[0;32mimport\u001b[0m \u001b[0mpadding\u001b[0m\u001b[0;34m,\u001b[0m \u001b[0mflatMutileLength\u001b[0m\u001b[0;34m,\u001b[0m \u001b[0mTimer\u001b[0m\u001b[0;34m,\u001b[0m \u001b[0mAverage\u001b[0m\u001b[0;34m\u001b[0m\u001b[0m\n",
      "\u001b[0;31mImportError\u001b[0m: No module named 'modal'"
     ]
    }
   ],
   "source": [
    "import torch\n",
    "import torch.nn as nn\n",
    "from torch.autograd import Variable\n",
    "from torch import optim\n",
    "\n",
    "from modal.BigModal import SubToSeq\n",
    "from utils.tokenMaker import Lang\n",
    "from utils.tool import padding, flatMutileLength, Timer, Average\n",
    "useCuda = True\n",
    "Variable = Variable.cuda if useCuda else Variable"
   ]
  },
  {
   "cell_type": "code",
   "execution_count": 2,
   "metadata": {},
   "outputs": [],
   "source": [
    "import torch.utils.data\n",
    "import pickle\n",
    "with open(\"./translate/eng_fra_dataset\", 'rb') as f:\n",
    "    trainset = pickle.load(f)\n",
    "    \n",
    "loader = torch.utils.data.DataLoader(trainset, batch_size=5, shuffle=True, num_workers=2)"
   ]
  },
  {
   "cell_type": "code",
   "execution_count": 1,
   "metadata": {},
   "outputs": [],
   "source": [
    "from dataset.translate import TranslateDataset as DramaDataset\n",
    "datasets = DramaDataset(basedir=\"./translate/eng_fra_dataset\",\n",
    "                        maxFrame=0,\n",
    "                        timeOffset=0.2,\n",
    "                        startSeries=1,\n",
    "                        maxSeries=5,\n",
    "                        subOffset=0, \n",
    "                        subMax=200)"
   ]
  },
  {
   "cell_type": "code",
   "execution_count": 2,
   "metadata": {},
   "outputs": [
    {
     "data": {
      "text/plain": [
       "('j ai demande a maintes reprises aux villageois de me laisser mourir .',\n",
       " 'i asked the villagers many times to let me die .',\n",
       " [])"
      ]
     },
     "execution_count": 2,
     "metadata": {},
     "output_type": "execute_result"
    }
   ],
   "source": [
    "datasets[0]"
   ]
  },
  {
   "cell_type": "code",
   "execution_count": 13,
   "metadata": {},
   "outputs": [
    {
     "name": "stdout",
     "output_type": "stream",
     "text": [
      "Load lang model: TransModal/overtrain/. Word size: 32107\n"
     ]
    }
   ],
   "source": [
    "ModalFile = \"TransModal/overtrain/\"\n",
    "modal = torch.load(ModalFile+\"SubSubModal.180.pth\")\n",
    "with open(ModalFile+\"Lang.pkl\", 'rb') as f:\n",
    "    lang = pickle.load(f)\n",
    "    print(\"Load lang model: {}. Word size: {}\".format(ModalFile, len(lang)))"
   ]
  },
  {
   "cell_type": "code",
   "execution_count": 14,
   "metadata": {},
   "outputs": [],
   "source": [
    "def transData(in_sents, target_sents, lang):\n",
    "    in_seqs = []\n",
    "    in_targets = []\n",
    "    out_targets = []\n",
    "    \n",
    "    vectorTransforms = [torch.LongTensor, Variable]\n",
    "    \n",
    "    for sent in in_sents:\n",
    "        in_seqs.append(lang.sentenceToVector(sent, sos=False, eos=False))\n",
    "    in_seqs = padding(in_seqs, lang[\"PAD\"], vectorTransforms)\n",
    "    \n",
    "    for sent in target_sents:\n",
    "        in_targets.append(lang.sentenceToVector(sent, sos=True, eos=False))\n",
    "        out_targets.append(lang.sentenceToVector(sent, sos=False, eos=True))\n",
    "    in_targets = padding(in_targets, lang[\"PAD\"], vectorTransforms)\n",
    "    out_targets = padding(out_targets, lang[\"PAD\"], vectorTransforms)\n",
    "    return in_seqs, in_targets, out_targets"
   ]
  },
  {
   "cell_type": "code",
   "execution_count": 15,
   "metadata": {},
   "outputs": [],
   "source": [
    "def predit(modal, lang, in_sents, max_length=50):\n",
    "    ans = []\n",
    "    in_seq = Variable(torch.LongTensor(lang.sentenceToVector(in_sents, sos=False, eos=False)).unsqueeze(0))\n",
    "    inputs = Variable(torch.LongTensor([[lang[\"SOS\"]]]).long())\n",
    "    hidden = None\n",
    "    \n",
    "    cxt = modal.makeContext(in_seq)\n",
    "    for i in range(max_length):\n",
    "        outputs, hidden = modal.decode(inputs, cxt, hidden)\n",
    "        prob, outputs = outputs.topk(1)\n",
    "        outputs = outputs[0][0].data[0]\n",
    "        if(outputs == lang[\"EOS\"]):\n",
    "            break\n",
    "        ans.append(outputs)\n",
    "        inputs = Variable(torch.LongTensor([[outputs]]))\n",
    "    return lang.vectorToSentence(ans)"
   ]
  },
  {
   "cell_type": "code",
   "execution_count": 16,
   "metadata": {},
   "outputs": [],
   "source": [
    "import matplotlib.pyplot as plt\n",
    "def showVar(data):\n",
    "    x = range(0, data.size(-1))\n",
    "    plt.bar(x, data.data.cpu())\n",
    "    plt.show()"
   ]
  },
  {
   "cell_type": "code",
   "execution_count": 17,
   "metadata": {},
   "outputs": [],
   "source": [
    "it = iter(loader)"
   ]
  },
  {
   "cell_type": "code",
   "execution_count": 23,
   "metadata": {},
   "outputs": [],
   "source": [
    "fras, engs = it.next()"
   ]
  },
  {
   "cell_type": "code",
   "execution_count": 24,
   "metadata": {},
   "outputs": [
    {
     "name": "stdout",
     "output_type": "stream",
     "text": [
      "Fra: sors de ma chambre immediatement .\n",
      "Eng: leave my room immediately .\n",
      "Pre: get out of my PAD right .\n",
      "\n",
      "\n",
      "Fra: leur fille est infirmiere .\n",
      "Eng: their daughter is a nurse .\n",
      "Pre: their daughter is a nurse .\n",
      "\n",
      "\n",
      "Fra: verifie !\n",
      "Eng: check it out !\n",
      "Pre: come on .\n",
      "\n",
      "\n",
      "Fra: le monde est il devenu fou ?\n",
      "Eng: has the world gone mad ?\n",
      "Pre: has the world big become ?\n",
      "\n",
      "\n",
      "Fra: qui etes vous et que voulez vous ?\n",
      "Eng: who are you and what do you want ?\n",
      "Pre: who are you and what do you want ?\n",
      "\n",
      "\n"
     ]
    }
   ],
   "source": [
    "modal.eval()\n",
    "for fra, eng in zip(fras, engs):\n",
    "    pred = predit(modal, lang, fra)\n",
    "    print(\"Fra: {}\\nEng: {}\\nPre: {}\\n\\n\".format(fra, eng, pred))"
   ]
  },
  {
   "cell_type": "code",
   "execution_count": 30,
   "metadata": {},
   "outputs": [],
   "source": [
    "in_seq = Variable(torch.LongTensor(lang.sentenceToVector(fras[1], sos=False, eos=False)).unsqueeze(0))\n",
    "inputs = Variable(torch.LongTensor([[lang[\"SOS\"]]]).long())\n",
    "hidden = None\n",
    "\n",
    "cxt = modal.makeContext(in_seq)"
   ]
  },
  {
   "cell_type": "code",
   "execution_count": 31,
   "metadata": {},
   "outputs": [],
   "source": [
    "outputs, hidden = modal.decode(inputs, cxt, hidden)"
   ]
  },
  {
   "cell_type": "code",
   "execution_count": 32,
   "metadata": {},
   "outputs": [
    {
     "data": {
      "image/png": "[encoded data removed]",
      "text/plain": [
       "<Figure size 432x288 with 1 Axes>"
      ]
     },
     "metadata": {},
     "output_type": "display_data"
    }
   ],
   "source": [
    "showVar(outputs[0,0,2000:2200])"
   ]
  },
  {
   "cell_type": "code",
   "execution_count": 33,
   "metadata": {},
   "outputs": [
    {
     "data": {
      "text/plain": [
       "(Variable containing:\n",
       " (0 ,.,.) = \n",
       "   0.9976  0.0022  0.0001\n",
       " [torch.cuda.FloatTensor of size 1x1x3 (GPU 0)], Variable containing:\n",
       " (0 ,.,.) = \n",
       "   2056   457   222\n",
       " [torch.cuda.LongTensor of size 1x1x3 (GPU 0)])"
      ]
     },
     "execution_count": 33,
     "metadata": {},
     "output_type": "execute_result"
    }
   ],
   "source": [
    "outputs.topk(3)"
   ]
  },
  {
   "cell_type": "code",
   "execution_count": null,
   "metadata": {},
   "outputs": [],
   "source": []
  }
 ],
 "metadata": {
  "kernelspec": {
   "display_name": "Python 3",
   "language": "python",
   "name": "python3"
  },
  "language_info": {
   "codemirror_mode": {
    "name": "ipython",
    "version": 3
   },
   "file_extension": ".py",
   "mimetype": "text/x-python",
   "name": "python",
   "nbconvert_exporter": "python",
   "pygments_lexer": "ipython3",
   "version": "3.5.5"
  }
 },
 "nbformat": 4,
 "nbformat_minor": 2
}
